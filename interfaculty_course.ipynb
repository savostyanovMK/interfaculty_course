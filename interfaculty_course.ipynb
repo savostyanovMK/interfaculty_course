{
 "cells": [
  {
   "cell_type": "code",
   "execution_count": 13,
   "id": "e497b907",
   "metadata": {},
   "outputs": [
    {
     "name": "stdout",
     "output_type": "stream",
     "text": [
      "The accuracy is 0.9777777777777777\n"
     ]
    },
    {
     "data": {
      "text/plain": [
       "array([[15,  0,  0],\n",
       "       [ 0, 14,  1],\n",
       "       [ 0,  0, 15]])"
      ]
     },
     "execution_count": 13,
     "metadata": {},
     "output_type": "execute_result"
    }
   ],
   "source": [
    "import pandas as pd\n",
    "\n",
    "from sklearn.model_selection import train_test_split\n",
    "from sklearn.linear_model    import LogisticRegression\n",
    "from sklearn                 import metrics\n",
    "\n",
    " \n",
    "Data        = pd.read_csv('iris.csv', sep = ',')\n",
    " \n",
    "train, test = train_test_split(Data, test_size = 0.30, stratify = Data['species'], random_state = 50)\n",
    " \n",
    "X_train = train[['sepal_length','sepal_width','petal_length','petal_width']].values\n",
    "y_train = train.species.values\n",
    " \n",
    "X_test  = test[['sepal_length','sepal_width','petal_length','petal_width']].values\n",
    "y_test  = test.species.values\n",
    " \n",
    "model      = LogisticRegression(multi_class = 'ovr')\n",
    "model.fit(X_train,y_train)\n",
    "Prediction = model.predict(X_test)\n",
    "\n",
    "\n",
    "print('The accuracy is', metrics.accuracy_score(Prediction,y_test))\n",
    " \n",
    "confusion_matrix = metrics.confusion_matrix(y_test, Prediction)\n",
    "confusion_matrix"
   ]
  },
  {
   "cell_type": "code",
   "execution_count": null,
   "id": "07276ec8",
   "metadata": {},
   "outputs": [],
   "source": []
  }
 ],
 "metadata": {
  "kernelspec": {
   "display_name": "Python 3 (ipykernel)",
   "language": "python",
   "name": "python3"
  },
  "language_info": {
   "codemirror_mode": {
    "name": "ipython",
    "version": 3
   },
   "file_extension": ".py",
   "mimetype": "text/x-python",
   "name": "python",
   "nbconvert_exporter": "python",
   "pygments_lexer": "ipython3",
   "version": "3.9.12"
  }
 },
 "nbformat": 4,
 "nbformat_minor": 5
}
